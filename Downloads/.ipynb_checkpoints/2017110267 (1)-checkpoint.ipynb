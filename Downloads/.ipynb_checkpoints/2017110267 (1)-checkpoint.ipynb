{
 "cells": [
  {
   "cell_type": "markdown",
   "metadata": {},
   "source": [
    "## Answer sheet for SWCON104-00 Midterm Examonation"
   ]
  },
  {
   "cell_type": "markdown",
   "metadata": {},
   "source": [
    "### WARNING!\n",
    "##### Answer sheet should be submitted as Student-ID.ipynb through KLAS before 14:40"
   ]
  },
  {
   "cell_type": "markdown",
   "metadata": {},
   "source": [
    "### Execute to enter your Name and Student ID"
   ]
  },
  {
   "cell_type": "code",
   "execution_count": 1,
   "metadata": {},
   "outputs": [
    {
     "name": "stdout",
     "output_type": "stream",
     "text": [
      "Student ID: 2017110267\n",
      "Name: 강연욱\n",
      "Magic Number: [['172.16.29.229', '172.16.29.229', '2019:4:22-13:19:38'], ['2017110267', '강연욱']]\n"
     ]
    }
   ],
   "source": [
    "# Execute when an examination begins.\n",
    "StudentInfo1 = str(input(\"Student ID: \"))\n",
    "StudentInfo2 = str(input(\"Name: \"))\n",
    "\n",
    "# WARNING: Don't remove or modify below lines - Zero score can be given when you ignore.\n",
    "import csv\n",
    "import socket\n",
    "import datetime\n",
    "\n",
    "magicHistory = []\n",
    "magicA = socket.gethostbyname(socket.gethostname())\n",
    "magicB = socket.gethostbyname(socket.getfqdn())\n",
    "dt = datetime.datetime.now()\n",
    "magicStr = \"{}:{}:{}-{}:{}:{}\".format(dt.year, dt.month, dt.day, dt.hour, dt.minute, dt.second)\n",
    "magicHistory.append([magicA, magicB, magicStr])    \n",
    "magicHistory.append([StudentInfo1, StudentInfo2])\n",
    "\n",
    "print(\"Magic Number:\", magicHistory)"
   ]
  },
  {
   "cell_type": "markdown",
   "metadata": {},
   "source": [
    "### Answer for Question.1"
   ]
  },
  {
   "cell_type": "code",
   "execution_count": 15,
   "metadata": {},
   "outputs": [],
   "source": [
    "list1 = [1,1,2,3,5,8,13,14,15,16]\n",
    "list2 = [1,1,2,3,4,5,6,7,8,9,10,11,12]\n",
    "\n",
    "# start of function mergeAndSortLists()\n",
    "def mergeAndSortLists(list1, list2):\n",
    "    list3 = []\n",
    "    list3.extend(list1)       #list3는 새로 만든 리스트입니다.\n",
    "\n",
    "    for i in list2:\n",
    "        if i not in list3:\n",
    "            list3.append(i)\n",
    "    list3.sort()\n",
    "    list3.remove(1)          #중복된 '1'을 없애주기 위해서 썼습니다.\n",
    "    return list3\n",
    "# end of function mergeAndSortLists()\n",
    "\n",
    "listResult = mergeAndSortLists(list1, list2)"
   ]
  },
  {
   "cell_type": "markdown",
   "metadata": {},
   "source": [
    "##### Self Check for Answer"
   ]
  },
  {
   "cell_type": "code",
   "execution_count": 16,
   "metadata": {},
   "outputs": [],
   "source": [
    "list1 = [1,1,2,3,5,8,13,14,15,16]\n",
    "list2 = [1,1,2,3,4,5,6,7,8,9,10,11,12]\n",
    "expectedAnswer1 = [1, 2, 3, 4, 5, 6, 7, 8, 9, 10, 11, 12, 13, 14, 15, 16]\n",
    "listResult = mergeAndSortLists(list1, list2)\n",
    "assert listResult == expectedAnswer1"
   ]
  },
  {
   "cell_type": "markdown",
   "metadata": {},
   "source": [
    "### Answer for Question.2"
   ]
  },
  {
   "cell_type": "code",
   "execution_count": 1,
   "metadata": {},
   "outputs": [
    {
     "name": "stdout",
     "output_type": "stream",
     "text": [
      "라인 길이를 입력해주세요:50\n",
      "원하는 다각형의 숫자를 입력해주세요.(예:삼각형은 정수 3):3\n"
     ]
    }
   ],
   "source": [
    "import turtle as t\n",
    "\n",
    "givenLineSize = int(input(\"라인 길이를 입력해주세요:\"))  # request line length from user\n",
    "givenShape = int(input(\"원하는 다각형의 숫자를 입력해주세요.(예:삼각형은 정수 3):\")) # request shape type from user\n",
    "\n",
    "z = [3, 4, 6, 9, 10, 12]      #문제에 주어진 조건에 의해 새로운 리스트를 만들었습니다.\n",
    "\n",
    "# start of function drawShape()\n",
    "def drawShape(givenLineSize, givenShape):\n",
    "    if givenShape in z:       #givenShape으로 받아온 정수가 z리스트에 있으면 터틀을 실행하며 true값을 리턴해줍니다.\n",
    "        for x in range(givenShape):\n",
    "            t.forward(givenLineSize)\n",
    "            t.left(360/givenShape)\n",
    "        return True\n",
    "    else:                     #givenShape으로 받아온 정수가 z리스트에 없으면 터틀을 실행하지 않으며 false값을 리턴해줍니다.\n",
    "        return False\n",
    "# end of function drawShape()\n",
    "\n",
    "givenResult = drawShape(givenLineSize, givenShape)\n"
   ]
  },
  {
   "cell_type": "markdown",
   "metadata": {},
   "source": [
    "##### Self Check for Answer"
   ]
  },
  {
   "cell_type": "code",
   "execution_count": 2,
   "metadata": {},
   "outputs": [],
   "source": [
    "givenResult = drawShape(50, 12)\n",
    "assert givenResult == True"
   ]
  },
  {
   "cell_type": "markdown",
   "metadata": {},
   "source": [
    "### Answer for Question.3"
   ]
  },
  {
   "cell_type": "code",
   "execution_count": null,
   "metadata": {},
   "outputs": [],
   "source": [
    "'''\n",
    "\n",
    "[start of answer in Korean or English]\n",
    "\n",
    "Case.A의 경우, 리스트 b의 아이템으로 1과 2가 존재하고 논리곱의 진리표에 의해 True and True는 True이므로 결과 또한 True이다.\n",
    "Case.B의 경우, 리스트 b의 아이템으로 1과 2가 존재하고 논리합의 진리표에 의해 True or True는 True이므로 결과 또한 True이다.\n",
    "#Case.A와 Case.B의 아이템은 정수로 이루어져 있어서 비교가 가능합니다.\n",
    "\n",
    "\n",
    "Case.C의 경우, 리스트와 튜플의 아이템은 같으나 리스트와 튜플은 서로 다른 자료형이므로 비교가 불가능하다. 고로 결과가 False이다.\n",
    "\n",
    "Case.D의 경우, 튜플을 d로 언패킹(unpacking)했을 때, 왼쪽에 있는 아이템부터 언패킹(unpacking)이 실행된다. 고로 3과 1은 같지 않으므로 False이다.\n",
    "\n",
    "Case.E의 경우, 튜플을 d로 언패킹(unpacking)했을 때, 왼쪽에 있는 아이템부터 언패킹(unpacking)이 실행된다. 고로 3과 3은 같으므로 True이다.\n",
    "\n",
    "[end of answer]\n",
    "\n",
    "''' "
   ]
  }
 ],
 "metadata": {
  "kernelspec": {
   "display_name": "Python 3",
   "language": "python",
   "name": "python3"
  },
  "language_info": {
   "codemirror_mode": {
    "name": "ipython",
    "version": 3
   },
   "file_extension": ".py",
   "mimetype": "text/x-python",
   "name": "python",
   "nbconvert_exporter": "python",
   "pygments_lexer": "ipython3",
   "version": "3.7.1"
  }
 },
 "nbformat": 4,
 "nbformat_minor": 2
}
